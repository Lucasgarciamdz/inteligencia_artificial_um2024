{
 "cells": [
  {
   "cell_type": "code",
   "execution_count": null,
   "metadata": {},
   "outputs": [],
   "source": [
    "!wget https://gist.github.com/seankross/a412dfbd88b3db70b74b -O mtcars.csv"
   ]
  },
  {
   "cell_type": "code",
   "execution_count": null,
   "metadata": {},
   "outputs": [],
   "source": [
    "import pandas as pd\n",
    "import numpy as np\n",
    "import matplotlib.pyplot as plt\n",
    "import seaborn as sns\n",
    "from scipy import sp"
   ]
  },
  {
   "cell_type": "markdown",
   "metadata": {},
   "source": [
    "Análisis estadistico descriptivo"
   ]
  },
  {
   "cell_type": "code",
   "execution_count": null,
   "metadata": {},
   "outputs": [],
   "source": [
    "# Fix the ParserError by specifying the correct delimiter\n",
    "mtcars = pd.read_csv('mtcars.csv', delimiter=',')\n",
    "\n",
    "# Mostrar las primeras filas del conjunto de datos\n",
    "print(mtcars.head())\n",
    "\n",
    "# Estadísticas básicas\n",
    "print(mtcars.describe())\n",
    "\n",
    "# Crear histogramas para cada variable numérica\n",
    "mtcars.hist(figsize=(10, 10))\n",
    "plt.show()\n",
    "\n",
    "# Verificar la distribución de las variables numéricas\n",
    "# Se asume que las variables numéricas siguen una distribución normal\n",
    "# Se utiliza el test de Shapiro-Wilk para verificar la normalidad\n",
    "numeric_columns = mtcars.select_dtypes(include=[np.number]).columns\n",
    "for column in numeric_columns:\n",
    "    statistic, p_value = stats.shapiro(mtcars[column])\n",
    "    print(f\"Variable: {column}\")\n",
    "    print(f\"Estadística: {statistic}\")\n",
    "    print(f\"p-value: {p_value}\")\n",
    "    if p_value > 0.05:\n",
    "        print(\"La distribución es normal.\")\n",
    "    else:\n",
    "        print(\"La distribución no es normal.\")\n"
   ]
  }
 ],
 "metadata": {
  "kernelspec": {
   "display_name": "ia_venv",
   "language": "python",
   "name": "python3"
  },
  "language_info": {
   "codemirror_mode": {
    "name": "ipython",
    "version": 3
   },
   "file_extension": ".py",
   "mimetype": "text/x-python",
   "name": "python",
   "nbconvert_exporter": "python",
   "pygments_lexer": "ipython3",
   "version": "3.11.9"
  }
 },
 "nbformat": 4,
 "nbformat_minor": 2
}
